{
 "cells": [
  {
   "cell_type": "code",
   "execution_count": 2,
   "metadata": {},
   "outputs": [
    {
     "name": "stdout",
     "output_type": "stream",
     "text": [
      "Collecting rembg\n",
      "  Using cached rembg-2.0.30-py3-none-any.whl (13 kB)\n",
      "Requirement already satisfied: numpy~=1.23.5 in /usr/local/lib/python3.10/site-packages (from rembg) (1.23.5)\n",
      "Requirement already satisfied: opencv-python-headless~=4.6.0.66 in /usr/local/lib/python3.10/site-packages (from rembg) (4.6.0.66)\n",
      "Requirement already satisfied: python-multipart~=0.0.5 in /usr/local/lib/python3.10/site-packages (from rembg) (0.0.5)\n",
      "Requirement already satisfied: uvicorn~=0.20.0 in /usr/local/lib/python3.10/site-packages (from rembg) (0.20.0)\n",
      "Requirement already satisfied: tqdm~=4.64.1 in /usr/local/lib/python3.10/site-packages (from rembg) (4.64.1)\n",
      "Requirement already satisfied: scikit-image~=0.19.3 in /usr/local/lib/python3.10/site-packages (from rembg) (0.19.3)\n",
      "Requirement already satisfied: watchdog~=2.1.9 in /usr/local/lib/python3.10/site-packages (from rembg) (2.1.9)\n",
      "Requirement already satisfied: pooch~=1.6.0 in /usr/local/lib/python3.10/site-packages (from rembg) (1.6.0)\n",
      "Requirement already satisfied: click~=8.1.3 in /usr/local/lib/python3.10/site-packages (from rembg) (8.1.3)\n",
      "Requirement already satisfied: scipy~=1.9.3 in /usr/local/lib/python3.10/site-packages (from rembg) (1.9.3)\n",
      "Requirement already satisfied: imagehash~=4.3.1 in /usr/local/lib/python3.10/site-packages (from rembg) (4.3.1)\n",
      "Requirement already satisfied: onnxruntime~=1.13.1 in /usr/local/lib/python3.10/site-packages (from rembg) (1.13.1)\n",
      "Collecting fastapi~=0.87.0\n",
      "  Using cached fastapi-0.87.0-py3-none-any.whl (55 kB)\n",
      "Requirement already satisfied: pillow~=9.3.0 in /usr/local/lib/python3.10/site-packages (from rembg) (9.3.0)\n",
      "Requirement already satisfied: asyncer~=0.0.2 in /usr/local/lib/python3.10/site-packages (from rembg) (0.0.2)\n",
      "Requirement already satisfied: filetype~=1.2.0 in /usr/local/lib/python3.10/site-packages (from rembg) (1.2.0)\n",
      "Requirement already satisfied: aiohttp~=3.8.1 in /usr/local/lib/python3.10/site-packages (from rembg) (3.8.3)\n",
      "Requirement already satisfied: pymatting~=1.1.8 in /usr/local/lib/python3.10/site-packages (from rembg) (1.1.8)\n",
      "Requirement already satisfied: yarl<2.0,>=1.0 in /usr/local/lib/python3.10/site-packages (from aiohttp~=3.8.1->rembg) (1.8.2)\n",
      "Requirement already satisfied: frozenlist>=1.1.1 in /usr/local/lib/python3.10/site-packages (from aiohttp~=3.8.1->rembg) (1.3.3)\n",
      "Requirement already satisfied: charset-normalizer<3.0,>=2.0 in /usr/local/lib/python3.10/site-packages (from aiohttp~=3.8.1->rembg) (2.1.1)\n",
      "Requirement already satisfied: async-timeout<5.0,>=4.0.0a3 in /usr/local/lib/python3.10/site-packages (from aiohttp~=3.8.1->rembg) (4.0.2)\n",
      "Requirement already satisfied: aiosignal>=1.1.2 in /usr/local/lib/python3.10/site-packages (from aiohttp~=3.8.1->rembg) (1.3.1)\n",
      "Requirement already satisfied: multidict<7.0,>=4.5 in /usr/local/lib/python3.10/site-packages (from aiohttp~=3.8.1->rembg) (6.0.4)\n",
      "Requirement already satisfied: attrs>=17.3.0 in /usr/local/lib/python3.10/site-packages (from aiohttp~=3.8.1->rembg) (22.1.0)\n",
      "Requirement already satisfied: anyio<4.0.0,>=3.4.0 in /usr/local/lib/python3.10/site-packages (from asyncer~=0.0.2->rembg) (3.6.1)\n",
      "Requirement already satisfied: starlette==0.21.0 in /usr/local/lib/python3.10/site-packages (from fastapi~=0.87.0->rembg) (0.21.0)\n",
      "Requirement already satisfied: pydantic!=1.7,!=1.7.1,!=1.7.2,!=1.7.3,!=1.8,!=1.8.1,<2.0.0,>=1.6.2 in /usr/local/lib/python3.10/site-packages (from fastapi~=0.87.0->rembg) (1.10.4)\n",
      "Requirement already satisfied: PyWavelets in /usr/local/lib/python3.10/site-packages (from imagehash~=4.3.1->rembg) (1.4.1)\n",
      "Requirement already satisfied: protobuf in /usr/local/lib/python3.10/site-packages (from onnxruntime~=1.13.1->rembg) (3.19.5)\n",
      "Requirement already satisfied: flatbuffers in /usr/local/lib/python3.10/site-packages (from onnxruntime~=1.13.1->rembg) (2.0.7)\n",
      "Requirement already satisfied: coloredlogs in /usr/local/lib/python3.10/site-packages (from onnxruntime~=1.13.1->rembg) (15.0.1)\n",
      "Requirement already satisfied: sympy in /usr/local/lib/python3.10/site-packages (from onnxruntime~=1.13.1->rembg) (1.11.1)\n",
      "Requirement already satisfied: packaging in /usr/local/lib/python3.10/site-packages (from onnxruntime~=1.13.1->rembg) (21.3)\n",
      "Requirement already satisfied: appdirs>=1.3.0 in /usr/local/lib/python3.10/site-packages (from pooch~=1.6.0->rembg) (1.4.4)\n",
      "Requirement already satisfied: requests>=2.19.0 in /usr/local/lib/python3.10/site-packages (from pooch~=1.6.0->rembg) (2.28.1)\n",
      "Requirement already satisfied: numba!=0.49.0 in /usr/local/lib/python3.10/site-packages (from pymatting~=1.1.8->rembg) (0.56.4)\n",
      "Requirement already satisfied: six>=1.4.0 in /usr/local/lib/python3.10/site-packages (from python-multipart~=0.0.5->rembg) (1.16.0)\n",
      "Requirement already satisfied: imageio>=2.4.1 in /usr/local/lib/python3.10/site-packages (from scikit-image~=0.19.3->rembg) (2.23.0)\n",
      "Requirement already satisfied: networkx>=2.2 in /usr/local/lib/python3.10/site-packages (from scikit-image~=0.19.3->rembg) (2.8.8)\n",
      "Requirement already satisfied: tifffile>=2019.7.26 in /usr/local/lib/python3.10/site-packages (from scikit-image~=0.19.3->rembg) (2022.10.10)\n",
      "Requirement already satisfied: h11>=0.8 in /usr/local/lib/python3.10/site-packages (from uvicorn~=0.20.0->rembg) (0.12.0)\n",
      "Requirement already satisfied: sniffio>=1.1 in /usr/local/lib/python3.10/site-packages (from anyio<4.0.0,>=3.4.0->asyncer~=0.0.2->rembg) (1.3.0)\n",
      "Requirement already satisfied: idna>=2.8 in /usr/local/lib/python3.10/site-packages (from anyio<4.0.0,>=3.4.0->asyncer~=0.0.2->rembg) (3.3)\n",
      "Requirement already satisfied: setuptools in /usr/local/lib/python3.10/site-packages (from numba!=0.49.0->pymatting~=1.1.8->rembg) (63.4.3)\n",
      "Requirement already satisfied: llvmlite<0.40,>=0.39.0dev0 in /usr/local/lib/python3.10/site-packages (from numba!=0.49.0->pymatting~=1.1.8->rembg) (0.39.1)\n",
      "Requirement already satisfied: pyparsing!=3.0.5,>=2.0.2 in /usr/local/lib/python3.10/site-packages (from packaging->onnxruntime~=1.13.1->rembg) (3.0.9)\n",
      "Requirement already satisfied: typing-extensions>=4.2.0 in /usr/local/lib/python3.10/site-packages (from pydantic!=1.7,!=1.7.1,!=1.7.2,!=1.7.3,!=1.8,!=1.8.1,<2.0.0,>=1.6.2->fastapi~=0.87.0->rembg) (4.3.0)\n",
      "Requirement already satisfied: certifi>=2017.4.17 in /usr/local/lib/python3.10/site-packages (from requests>=2.19.0->pooch~=1.6.0->rembg) (2022.6.15)\n",
      "Requirement already satisfied: urllib3<1.27,>=1.21.1 in /usr/local/lib/python3.10/site-packages (from requests>=2.19.0->pooch~=1.6.0->rembg) (1.26.12)\n",
      "Requirement already satisfied: humanfriendly>=9.1 in /usr/local/lib/python3.10/site-packages (from coloredlogs->onnxruntime~=1.13.1->rembg) (10.0)\n",
      "Requirement already satisfied: mpmath>=0.19 in /usr/local/lib/python3.10/site-packages (from sympy->onnxruntime~=1.13.1->rembg) (1.2.1)\n",
      "Installing collected packages: fastapi, rembg\n",
      "  Attempting uninstall: fastapi\n",
      "    Found existing installation: fastapi 0.88.0\n",
      "    Uninstalling fastapi-0.88.0:\n",
      "      Successfully uninstalled fastapi-0.88.0\n",
      "Successfully installed fastapi-0.87.0 rembg-2.0.30\n",
      "Note: you may need to restart the kernel to use updated packages.\n"
     ]
    }
   ],
   "source": [
    "%pip install rembg"
   ]
  },
  {
   "cell_type": "code",
   "execution_count": 3,
   "metadata": {},
   "outputs": [],
   "source": [
    "from rembg import remove\n",
    "from PIL import Image"
   ]
  },
  {
   "cell_type": "code",
   "execution_count": 5,
   "metadata": {},
   "outputs": [
    {
     "name": "stderr",
     "output_type": "stream",
     "text": [
      "Downloading data from 'https://github.com/danielgatis/rembg/releases/download/v0.0.0/u2net.onnx' to file '/Users/donjoe/.u2net/u2net.onnx'.\n",
      "100%|███████████████████████████████████████| 176M/176M [00:00<00:00, 44.0GB/s]\n"
     ]
    },
    {
     "ename": "OSError",
     "evalue": "cannot write mode RGBA as JPEG",
     "output_type": "error",
     "traceback": [
      "\u001b[0;31m---------------------------------------------------------------------------\u001b[0m",
      "\u001b[0;31mKeyError\u001b[0m                                  Traceback (most recent call last)",
      "File \u001b[0;32m/usr/local/lib/python3.10/site-packages/PIL/JpegImagePlugin.py:630\u001b[0m, in \u001b[0;36m_save\u001b[0;34m(im, fp, filename)\u001b[0m\n\u001b[1;32m    629\u001b[0m \u001b[39mtry\u001b[39;00m:\n\u001b[0;32m--> 630\u001b[0m     rawmode \u001b[39m=\u001b[39m RAWMODE[im\u001b[39m.\u001b[39;49mmode]\n\u001b[1;32m    631\u001b[0m \u001b[39mexcept\u001b[39;00m \u001b[39mKeyError\u001b[39;00m \u001b[39mas\u001b[39;00m e:\n",
      "\u001b[0;31mKeyError\u001b[0m: 'RGBA'",
      "\nThe above exception was the direct cause of the following exception:\n",
      "\u001b[0;31mOSError\u001b[0m                                   Traceback (most recent call last)",
      "\u001b[1;32m/Users/donjoe/Documents/100_short_python_programs/01_remove_bg_image.ipynb Cell 3\u001b[0m in \u001b[0;36m<cell line: 2>\u001b[0;34m()\u001b[0m\n\u001b[1;32m      <a href='vscode-notebook-cell:/Users/donjoe/Documents/100_short_python_programs/01_remove_bg_image.ipynb#W2sZmlsZQ%3D%3D?line=0'>1</a>\u001b[0m without_bg \u001b[39m=\u001b[39m remove(Image\u001b[39m.\u001b[39mopen(\u001b[39m'\u001b[39m\u001b[39mparrot.jpg\u001b[39m\u001b[39m'\u001b[39m))\n\u001b[0;32m----> <a href='vscode-notebook-cell:/Users/donjoe/Documents/100_short_python_programs/01_remove_bg_image.ipynb#W2sZmlsZQ%3D%3D?line=1'>2</a>\u001b[0m without_bg\u001b[39m.\u001b[39;49msave(\u001b[39m'\u001b[39;49m\u001b[39mparrot_out.jpg\u001b[39;49m\u001b[39m'\u001b[39;49m)\n",
      "File \u001b[0;32m/usr/local/lib/python3.10/site-packages/PIL/Image.py:2353\u001b[0m, in \u001b[0;36mImage.save\u001b[0;34m(self, fp, format, **params)\u001b[0m\n\u001b[1;32m   2350\u001b[0m         fp \u001b[39m=\u001b[39m builtins\u001b[39m.\u001b[39mopen(filename, \u001b[39m\"\u001b[39m\u001b[39mw+b\u001b[39m\u001b[39m\"\u001b[39m)\n\u001b[1;32m   2352\u001b[0m \u001b[39mtry\u001b[39;00m:\n\u001b[0;32m-> 2353\u001b[0m     save_handler(\u001b[39mself\u001b[39;49m, fp, filename)\n\u001b[1;32m   2354\u001b[0m \u001b[39mexcept\u001b[39;00m \u001b[39mException\u001b[39;00m:\n\u001b[1;32m   2355\u001b[0m     \u001b[39mif\u001b[39;00m open_fp:\n",
      "File \u001b[0;32m/usr/local/lib/python3.10/site-packages/PIL/JpegImagePlugin.py:632\u001b[0m, in \u001b[0;36m_save\u001b[0;34m(im, fp, filename)\u001b[0m\n\u001b[1;32m    630\u001b[0m     rawmode \u001b[39m=\u001b[39m RAWMODE[im\u001b[39m.\u001b[39mmode]\n\u001b[1;32m    631\u001b[0m \u001b[39mexcept\u001b[39;00m \u001b[39mKeyError\u001b[39;00m \u001b[39mas\u001b[39;00m e:\n\u001b[0;32m--> 632\u001b[0m     \u001b[39mraise\u001b[39;00m \u001b[39mOSError\u001b[39;00m(\u001b[39mf\u001b[39m\u001b[39m\"\u001b[39m\u001b[39mcannot write mode \u001b[39m\u001b[39m{\u001b[39;00mim\u001b[39m.\u001b[39mmode\u001b[39m}\u001b[39;00m\u001b[39m as JPEG\u001b[39m\u001b[39m\"\u001b[39m) \u001b[39mfrom\u001b[39;00m \u001b[39me\u001b[39;00m\n\u001b[1;32m    634\u001b[0m info \u001b[39m=\u001b[39m im\u001b[39m.\u001b[39mencoderinfo\n\u001b[1;32m    636\u001b[0m dpi \u001b[39m=\u001b[39m [\u001b[39mround\u001b[39m(x) \u001b[39mfor\u001b[39;00m x \u001b[39min\u001b[39;00m info\u001b[39m.\u001b[39mget(\u001b[39m\"\u001b[39m\u001b[39mdpi\u001b[39m\u001b[39m\"\u001b[39m, (\u001b[39m0\u001b[39m, \u001b[39m0\u001b[39m))]\n",
      "\u001b[0;31mOSError\u001b[0m: cannot write mode RGBA as JPEG"
     ]
    }
   ],
   "source": [
    "without_bg = remove(Image.open('parrot.jpg'))\n",
    "without_bg.save('parrot_out.jpg')"
   ]
  },
  {
   "cell_type": "code",
   "execution_count": null,
   "metadata": {},
   "outputs": [],
   "source": [
    "\n",
    "without_bg = remove(Image.open('batmobile.jpg'))\n",
    "without_bg.save('batmobile_out.jpg')"
   ]
  },
  {
   "cell_type": "code",
   "execution_count": null,
   "metadata": {},
   "outputs": [],
   "source": []
  },
  {
   "cell_type": "code",
   "execution_count": null,
   "metadata": {},
   "outputs": [],
   "source": []
  }
 ],
 "metadata": {
  "kernelspec": {
   "display_name": "Python 3.10.6 64-bit",
   "language": "python",
   "name": "python3"
  },
  "language_info": {
   "codemirror_mode": {
    "name": "ipython",
    "version": 3
   },
   "file_extension": ".py",
   "mimetype": "text/x-python",
   "name": "python",
   "nbconvert_exporter": "python",
   "pygments_lexer": "ipython3",
   "version": "3.10.6"
  },
  "orig_nbformat": 4,
  "vscode": {
   "interpreter": {
    "hash": "aee8b7b246df8f9039afb4144a1f6fd8d2ca17a180786b69acc140d282b71a49"
   }
  }
 },
 "nbformat": 4,
 "nbformat_minor": 2
}
