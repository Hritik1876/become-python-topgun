{
 "cells": [
  {
   "cell_type": "code",
   "execution_count": 3,
   "metadata": {},
   "outputs": [],
   "source": [
    "class IceCreamTruck:\n",
    "    def __init__(self, location, music):\n",
    "        self.location = location\n",
    "        self.music = music\n",
    "        self.inventory = {}\n",
    "\n",
    "    def move(self, location):\n",
    "        self.location = location\n",
    "        print(f\"Ice cream truck has moved to {location}.\")\n",
    "\n",
    "    def play_music(self):\n",
    "        print(f\"Playing {self.music}.\")\n",
    "\n",
    "    def add_flavor(self, flavor, price):\n",
    "        self.inventory[flavor] = price\n",
    "\n",
    "    def sell_ice_cream(self, flavor, customer):\n",
    "        if flavor in self.inventory:\n",
    "            cost = self.inventory[flavor]\n",
    "            if customer.pay(cost):\n",
    "                customer.add_purchased_item(flavor)\n",
    "                print(f\"{customer.name} has bought {flavor} for ${cost}.\")\n",
    "            else:\n",
    "                print(f\"{customer.name} does not have enough money to buy {flavor}.\")\n",
    "        else:\n",
    "            print(f\"{flavor} is not available.\")\n",
    "\n",
    "class Customer:\n",
    "    def __init__(self, name, money):\n",
    "        self.name = name\n",
    "        self.money = money\n",
    "        self.purchased_items = []\n",
    "\n",
    "    def pay(self, cost):\n",
    "        if self.money >= cost:\n",
    "            self.money -= cost\n",
    "            return True\n",
    "        else:\n",
    "            return False\n",
    "\n",
    "    def add_purchased_item(self, item):\n",
    "        self.purchased_items.append(item)\n",
    "\n",
    "    def get_purchased_items(self):\n",
    "        return self.purchased_items"
   ]
  },
  {
   "cell_type": "markdown",
   "metadata": {},
   "source": [
    "This code creates an instance of the `IceCreamTruck` class with a location of \"Main Street\" and music \"Popcorn Song\", adds some ice cream flavors to its inventory, creates two customers, moves the truck to a new location, plays music, sells vanilla ice cream to customer 1, and then attempts to sell strawberry ice cream to customer 2, but customer 2 doesn't have enough money. Finally it prints the item that customer 1 has purchased\n",
    "\n",
    "This is just an example of how the classes can be used to simulate an ice cream truck. You can use this code as a base and expand upon it to make it more complex and realistic as per your requirement."
   ]
  },
  {
   "cell_type": "code",
   "execution_count": 4,
   "metadata": {},
   "outputs": [
    {
     "name": "stdout",
     "output_type": "stream",
     "text": [
      "Ice cream truck has moved to Park Avenue.\n",
      "Playing Popcorn Song.\n",
      "John has bought Vanilla for $3.0.\n",
      "Sophie has bought Strawberry for $3.25.\n",
      "['Vanilla']\n"
     ]
    }
   ],
   "source": [
    "# Create an instance of the IceCreamTruck class\n",
    "truck = IceCreamTruck(\"Main Street\", \"Popcorn Song\")\n",
    "\n",
    "# Add some ice cream flavors to the truck's inventory\n",
    "truck.add_flavor(\"Chocolate\", 3.50)\n",
    "truck.add_flavor(\"Vanilla\", 3.00)\n",
    "truck.add_flavor(\"Strawberry\", 3.25)\n",
    "\n",
    "# Create some customers\n",
    "customer1 = Customer(\"John\", 10.00)\n",
    "customer2 = Customer(\"Sophie\", 5.00)\n",
    "\n",
    "# Move the truck to a new location\n",
    "truck.move(\"Park Avenue\")\n",
    "\n",
    "# Have the truck play music\n",
    "truck.play_music()\n",
    "\n",
    "# Customer 1 buys vanilla ice cream\n",
    "truck.sell_ice_cream(\"Vanilla\", customer1)\n",
    "\n",
    "# Customer 2 tries to buy strawberry ice cream, but doesn't have enough money\n",
    "truck.sell_ice_cream(\"Strawberry\", customer2)\n",
    "\n",
    "# Check what items customer 1 has purchased\n",
    "print(customer1.get_purchased_items())\n"
   ]
  },
  {
   "cell_type": "code",
   "execution_count": null,
   "metadata": {},
   "outputs": [],
   "source": []
  }
 ],
 "metadata": {
  "kernelspec": {
   "display_name": "Python 3.10.6 64-bit",
   "language": "python",
   "name": "python3"
  },
  "language_info": {
   "codemirror_mode": {
    "name": "ipython",
    "version": 3
   },
   "file_extension": ".py",
   "mimetype": "text/x-python",
   "name": "python",
   "nbconvert_exporter": "python",
   "pygments_lexer": "ipython3",
   "version": "3.10.6"
  },
  "orig_nbformat": 4,
  "vscode": {
   "interpreter": {
    "hash": "aee8b7b246df8f9039afb4144a1f6fd8d2ca17a180786b69acc140d282b71a49"
   }
  }
 },
 "nbformat": 4,
 "nbformat_minor": 2
}
