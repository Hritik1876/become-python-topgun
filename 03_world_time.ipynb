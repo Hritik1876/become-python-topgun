{
 "cells": [
  {
   "cell_type": "markdown",
   "metadata": {},
   "source": [
    "This program first imports the `pytz` and `datetime` modules. It then defines a list of time zone names using the TZ database format. For each time zone in the list, the program gets the time zone information using the `pytz.timezone()` function and uses it to create a `datetime` object representing the current time in that time zone. Finally, it formats the time as a string and prints it to the console."
   ]
  },
  {
   "cell_type": "code",
   "execution_count": 1,
   "metadata": {},
   "outputs": [
    {
     "name": "stdout",
     "output_type": "stream",
     "text": [
      "Note: you may need to restart the kernel to use updated packages.\n"
     ]
    }
   ],
   "source": [
    "%pip install pytz -q"
   ]
  },
  {
   "cell_type": "code",
   "execution_count": 2,
   "metadata": {},
   "outputs": [],
   "source": [
    "import pytz\n",
    "from datetime import datetime"
   ]
  },
  {
   "cell_type": "code",
   "execution_count": 3,
   "metadata": {},
   "outputs": [
    {
     "name": "stdout",
     "output_type": "stream",
     "text": [
      "The current time in US/Eastern is 10:20\n",
      "The current time in Europe/Paris is 16:20\n",
      "The current time in Asia/Tokyo is 00:20\n"
     ]
    }
   ],
   "source": [
    "timezones = [\"US/Eastern\", \"Europe/Paris\", \"Asia/Tokyo\"]\n",
    "\n",
    "for tz in timezones:\n",
    "    tz_info = pytz.timezone(tz)\n",
    "    current_time = datetime.now(tz=tz_info)\n",
    "    print(f\"The current time in {tz} is {current_time.strftime('%H:%M')}\")"
   ]
  },
  {
   "cell_type": "code",
   "execution_count": null,
   "metadata": {},
   "outputs": [],
   "source": []
  }
 ],
 "metadata": {
  "kernelspec": {
   "display_name": "Python 3.10.6 64-bit",
   "language": "python",
   "name": "python3"
  },
  "language_info": {
   "codemirror_mode": {
    "name": "ipython",
    "version": 3
   },
   "file_extension": ".py",
   "mimetype": "text/x-python",
   "name": "python",
   "nbconvert_exporter": "python",
   "pygments_lexer": "ipython3",
   "version": "3.10.6"
  },
  "orig_nbformat": 4,
  "vscode": {
   "interpreter": {
    "hash": "aee8b7b246df8f9039afb4144a1f6fd8d2ca17a180786b69acc140d282b71a49"
   }
  }
 },
 "nbformat": 4,
 "nbformat_minor": 2
}
